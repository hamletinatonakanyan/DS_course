{
 "cells": [
  {
   "cell_type": "markdown",
   "source": [
    "# Analyse students' marks performance with Machine Learning"
   ],
   "metadata": {
    "collapsed": false
   }
  },
  {
   "cell_type": "code",
   "execution_count": 1,
   "outputs": [],
   "source": [
    "# import libraries\n",
    "import numpy as np\n",
    "import pandas as pd\n",
    "import matplotlib.pyplot as plt\n",
    "import seaborn as sns\n",
    "%matplotlib inline"
   ],
   "metadata": {
    "collapsed": false,
    "pycharm": {
     "name": "#%%\n"
    }
   }
  },
  {
   "cell_type": "markdown",
   "source": [
    "# Data Exploring\n"
   ],
   "metadata": {
    "collapsed": false
   }
  },
  {
   "cell_type": "code",
   "execution_count": 3,
   "outputs": [],
   "source": [
    "# import data\n",
    "students_data = pd.read_csv('data/final_project_data.csv')\n"
   ],
   "metadata": {
    "collapsed": false,
    "pycharm": {
     "name": "#%%\n"
    }
   }
  },
  {
   "cell_type": "code",
   "execution_count": 4,
   "outputs": [
    {
     "data": {
      "text/plain": "   gender race/ethnicity parental level of education         lunch  \\\n0  female        group B           bachelor's degree      standard   \n1  female        group C                some college      standard   \n2  female        group B             master's degree      standard   \n3    male        group A          associate's degree  free/reduced   \n4    male        group C                some college      standard   \n\n  test preparation course  math score  reading score  writing score  \n0                    none          72             72             74  \n1               completed          69             90             88  \n2                    none          90             95             93  \n3                    none          47             57             44  \n4                    none          76             78             75  ",
      "text/html": "<div>\n<style scoped>\n    .dataframe tbody tr th:only-of-type {\n        vertical-align: middle;\n    }\n\n    .dataframe tbody tr th {\n        vertical-align: top;\n    }\n\n    .dataframe thead th {\n        text-align: right;\n    }\n</style>\n<table border=\"1\" class=\"dataframe\">\n  <thead>\n    <tr style=\"text-align: right;\">\n      <th></th>\n      <th>gender</th>\n      <th>race/ethnicity</th>\n      <th>parental level of education</th>\n      <th>lunch</th>\n      <th>test preparation course</th>\n      <th>math score</th>\n      <th>reading score</th>\n      <th>writing score</th>\n    </tr>\n  </thead>\n  <tbody>\n    <tr>\n      <th>0</th>\n      <td>female</td>\n      <td>group B</td>\n      <td>bachelor's degree</td>\n      <td>standard</td>\n      <td>none</td>\n      <td>72</td>\n      <td>72</td>\n      <td>74</td>\n    </tr>\n    <tr>\n      <th>1</th>\n      <td>female</td>\n      <td>group C</td>\n      <td>some college</td>\n      <td>standard</td>\n      <td>completed</td>\n      <td>69</td>\n      <td>90</td>\n      <td>88</td>\n    </tr>\n    <tr>\n      <th>2</th>\n      <td>female</td>\n      <td>group B</td>\n      <td>master's degree</td>\n      <td>standard</td>\n      <td>none</td>\n      <td>90</td>\n      <td>95</td>\n      <td>93</td>\n    </tr>\n    <tr>\n      <th>3</th>\n      <td>male</td>\n      <td>group A</td>\n      <td>associate's degree</td>\n      <td>free/reduced</td>\n      <td>none</td>\n      <td>47</td>\n      <td>57</td>\n      <td>44</td>\n    </tr>\n    <tr>\n      <th>4</th>\n      <td>male</td>\n      <td>group C</td>\n      <td>some college</td>\n      <td>standard</td>\n      <td>none</td>\n      <td>76</td>\n      <td>78</td>\n      <td>75</td>\n    </tr>\n  </tbody>\n</table>\n</div>"
     },
     "execution_count": 4,
     "metadata": {},
     "output_type": "execute_result"
    }
   ],
   "source": [
    "students_data.head()"
   ],
   "metadata": {
    "collapsed": false,
    "pycharm": {
     "name": "#%%\n"
    }
   }
  },
  {
   "cell_type": "code",
   "execution_count": 5,
   "outputs": [
    {
     "data": {
      "text/plain": "(1000, 8)"
     },
     "execution_count": 5,
     "metadata": {},
     "output_type": "execute_result"
    }
   ],
   "source": [
    "# check the shape of data\n",
    "students_data.shape\n"
   ],
   "metadata": {
    "collapsed": false,
    "pycharm": {
     "name": "#%%\n"
    }
   }
  },
  {
   "cell_type": "code",
   "execution_count": 6,
   "outputs": [
    {
     "data": {
      "text/plain": "gender                         0\nrace/ethnicity                 0\nparental level of education    0\nlunch                          0\ntest preparation course        0\nmath score                     0\nreading score                  0\nwriting score                  0\ndtype: int64"
     },
     "execution_count": 6,
     "metadata": {},
     "output_type": "execute_result"
    }
   ],
   "source": [
    "# check if there is not any missing values\n",
    "students_data.isnull().sum()"
   ],
   "metadata": {
    "collapsed": false,
    "pycharm": {
     "name": "#%%\n"
    }
   }
  },
  {
   "cell_type": "code",
   "execution_count": 7,
   "outputs": [
    {
     "data": {
      "text/plain": "       math score  reading score  writing score\ncount  1000.00000    1000.000000    1000.000000\nmean     66.08900      69.169000      68.054000\nstd      15.16308      14.600192      15.195657\nmin       0.00000      17.000000      10.000000\n25%      57.00000      59.000000      57.750000\n50%      66.00000      70.000000      69.000000\n75%      77.00000      79.000000      79.000000\nmax     100.00000     100.000000     100.000000",
      "text/html": "<div>\n<style scoped>\n    .dataframe tbody tr th:only-of-type {\n        vertical-align: middle;\n    }\n\n    .dataframe tbody tr th {\n        vertical-align: top;\n    }\n\n    .dataframe thead th {\n        text-align: right;\n    }\n</style>\n<table border=\"1\" class=\"dataframe\">\n  <thead>\n    <tr style=\"text-align: right;\">\n      <th></th>\n      <th>math score</th>\n      <th>reading score</th>\n      <th>writing score</th>\n    </tr>\n  </thead>\n  <tbody>\n    <tr>\n      <th>count</th>\n      <td>1000.00000</td>\n      <td>1000.000000</td>\n      <td>1000.000000</td>\n    </tr>\n    <tr>\n      <th>mean</th>\n      <td>66.08900</td>\n      <td>69.169000</td>\n      <td>68.054000</td>\n    </tr>\n    <tr>\n      <th>std</th>\n      <td>15.16308</td>\n      <td>14.600192</td>\n      <td>15.195657</td>\n    </tr>\n    <tr>\n      <th>min</th>\n      <td>0.00000</td>\n      <td>17.000000</td>\n      <td>10.000000</td>\n    </tr>\n    <tr>\n      <th>25%</th>\n      <td>57.00000</td>\n      <td>59.000000</td>\n      <td>57.750000</td>\n    </tr>\n    <tr>\n      <th>50%</th>\n      <td>66.00000</td>\n      <td>70.000000</td>\n      <td>69.000000</td>\n    </tr>\n    <tr>\n      <th>75%</th>\n      <td>77.00000</td>\n      <td>79.000000</td>\n      <td>79.000000</td>\n    </tr>\n    <tr>\n      <th>max</th>\n      <td>100.00000</td>\n      <td>100.000000</td>\n      <td>100.000000</td>\n    </tr>\n  </tbody>\n</table>\n</div>"
     },
     "execution_count": 7,
     "metadata": {},
     "output_type": "execute_result"
    }
   ],
   "source": [
    "# look at the short statistical description of quantitative data\n",
    "\n",
    "students_data.describe().loc[:, 'math score':'writing score']\n"
   ],
   "metadata": {
    "collapsed": false,
    "pycharm": {
     "name": "#%%\n"
    }
   }
  },
  {
   "cell_type": "markdown",
   "source": [
    "# Visualization\n"
   ],
   "metadata": {
    "collapsed": false
   }
  },
  {
   "cell_type": "code",
   "execution_count": 8,
   "outputs": [
    {
     "data": {
      "text/plain": "   gender race/ethnicity parental_level_of_education     lunch  \\\n0  female        group B           bachelor's degree  standard   \n1  female        group C                some college  standard   \n\n  test_preparation_course  math_score  reading_score  writing_score  \n0                    none          72             72             74  \n1               completed          69             90             88  ",
      "text/html": "<div>\n<style scoped>\n    .dataframe tbody tr th:only-of-type {\n        vertical-align: middle;\n    }\n\n    .dataframe tbody tr th {\n        vertical-align: top;\n    }\n\n    .dataframe thead th {\n        text-align: right;\n    }\n</style>\n<table border=\"1\" class=\"dataframe\">\n  <thead>\n    <tr style=\"text-align: right;\">\n      <th></th>\n      <th>gender</th>\n      <th>race/ethnicity</th>\n      <th>parental_level_of_education</th>\n      <th>lunch</th>\n      <th>test_preparation_course</th>\n      <th>math_score</th>\n      <th>reading_score</th>\n      <th>writing_score</th>\n    </tr>\n  </thead>\n  <tbody>\n    <tr>\n      <th>0</th>\n      <td>female</td>\n      <td>group B</td>\n      <td>bachelor's degree</td>\n      <td>standard</td>\n      <td>none</td>\n      <td>72</td>\n      <td>72</td>\n      <td>74</td>\n    </tr>\n    <tr>\n      <th>1</th>\n      <td>female</td>\n      <td>group C</td>\n      <td>some college</td>\n      <td>standard</td>\n      <td>completed</td>\n      <td>69</td>\n      <td>90</td>\n      <td>88</td>\n    </tr>\n  </tbody>\n</table>\n</div>"
     },
     "execution_count": 8,
     "metadata": {},
     "output_type": "execute_result"
    }
   ],
   "source": [
    "# changing names of columns to easiest way for further accessing\n",
    "\n",
    "students_data.columns = students_data.columns.str.replace(' ', '_')\n",
    "\n",
    "students_data.head(2)"
   ],
   "metadata": {
    "collapsed": false,
    "pycharm": {
     "name": "#%%\n"
    }
   }
  },
  {
   "cell_type": "code",
   "execution_count": 9,
   "outputs": [
    {
     "data": {
      "text/plain": "   gender race/ethnicity parental_level_of_education         lunch  \\\n0  female        group B           bachelor's degree      standard   \n1  female        group C                some college      standard   \n2  female        group B             master's degree      standard   \n3    male        group A          associate's degree  free/reduced   \n4    male        group C                some college      standard   \n\n  test_preparation_course  math_score  reading_score  writing_score  \\\n0                    none          72             72             74   \n1               completed          69             90             88   \n2                    none          90             95             93   \n3                    none          47             57             44   \n4                    none          76             78             75   \n\n   total_score  \n0          218  \n1          247  \n2          278  \n3          148  \n4          229  ",
      "text/html": "<div>\n<style scoped>\n    .dataframe tbody tr th:only-of-type {\n        vertical-align: middle;\n    }\n\n    .dataframe tbody tr th {\n        vertical-align: top;\n    }\n\n    .dataframe thead th {\n        text-align: right;\n    }\n</style>\n<table border=\"1\" class=\"dataframe\">\n  <thead>\n    <tr style=\"text-align: right;\">\n      <th></th>\n      <th>gender</th>\n      <th>race/ethnicity</th>\n      <th>parental_level_of_education</th>\n      <th>lunch</th>\n      <th>test_preparation_course</th>\n      <th>math_score</th>\n      <th>reading_score</th>\n      <th>writing_score</th>\n      <th>total_score</th>\n    </tr>\n  </thead>\n  <tbody>\n    <tr>\n      <th>0</th>\n      <td>female</td>\n      <td>group B</td>\n      <td>bachelor's degree</td>\n      <td>standard</td>\n      <td>none</td>\n      <td>72</td>\n      <td>72</td>\n      <td>74</td>\n      <td>218</td>\n    </tr>\n    <tr>\n      <th>1</th>\n      <td>female</td>\n      <td>group C</td>\n      <td>some college</td>\n      <td>standard</td>\n      <td>completed</td>\n      <td>69</td>\n      <td>90</td>\n      <td>88</td>\n      <td>247</td>\n    </tr>\n    <tr>\n      <th>2</th>\n      <td>female</td>\n      <td>group B</td>\n      <td>master's degree</td>\n      <td>standard</td>\n      <td>none</td>\n      <td>90</td>\n      <td>95</td>\n      <td>93</td>\n      <td>278</td>\n    </tr>\n    <tr>\n      <th>3</th>\n      <td>male</td>\n      <td>group A</td>\n      <td>associate's degree</td>\n      <td>free/reduced</td>\n      <td>none</td>\n      <td>47</td>\n      <td>57</td>\n      <td>44</td>\n      <td>148</td>\n    </tr>\n    <tr>\n      <th>4</th>\n      <td>male</td>\n      <td>group C</td>\n      <td>some college</td>\n      <td>standard</td>\n      <td>none</td>\n      <td>76</td>\n      <td>78</td>\n      <td>75</td>\n      <td>229</td>\n    </tr>\n  </tbody>\n</table>\n</div>"
     },
     "execution_count": 9,
     "metadata": {},
     "output_type": "execute_result"
    }
   ],
   "source": [
    "# add total_score column in dataframe\n",
    "students_data['total_score'] = students_data.math_score + students_data.reading_score + students_data.writing_score\n",
    "\n",
    "# look at the updated dataframe\n",
    "students_data.head()\n"
   ],
   "metadata": {
    "collapsed": false,
    "pycharm": {
     "name": "#%%\n"
    }
   }
  },
  {
   "cell_type": "code",
   "execution_count": 10,
   "outputs": [
    {
     "data": {
      "text/plain": "   gender race/ethnicity parental_level_of_education         lunch  \\\n0  female        group B           bachelor's degree      standard   \n1  female        group C                some college      standard   \n2  female        group B             master's degree      standard   \n3    male        group A          associate's degree  free/reduced   \n4    male        group C                some college      standard   \n\n  test_preparation_course  math_score  reading_score  writing_score  \\\n0                    none          72             72             74   \n1               completed          69             90             88   \n2                    none          90             95             93   \n3                    none          47             57             44   \n4                    none          76             78             75   \n\n   total_score  GPA  \n0          218   72  \n1          247   82  \n2          278   92  \n3          148   49  \n4          229   76  ",
      "text/html": "<div>\n<style scoped>\n    .dataframe tbody tr th:only-of-type {\n        vertical-align: middle;\n    }\n\n    .dataframe tbody tr th {\n        vertical-align: top;\n    }\n\n    .dataframe thead th {\n        text-align: right;\n    }\n</style>\n<table border=\"1\" class=\"dataframe\">\n  <thead>\n    <tr style=\"text-align: right;\">\n      <th></th>\n      <th>gender</th>\n      <th>race/ethnicity</th>\n      <th>parental_level_of_education</th>\n      <th>lunch</th>\n      <th>test_preparation_course</th>\n      <th>math_score</th>\n      <th>reading_score</th>\n      <th>writing_score</th>\n      <th>total_score</th>\n      <th>GPA</th>\n    </tr>\n  </thead>\n  <tbody>\n    <tr>\n      <th>0</th>\n      <td>female</td>\n      <td>group B</td>\n      <td>bachelor's degree</td>\n      <td>standard</td>\n      <td>none</td>\n      <td>72</td>\n      <td>72</td>\n      <td>74</td>\n      <td>218</td>\n      <td>72</td>\n    </tr>\n    <tr>\n      <th>1</th>\n      <td>female</td>\n      <td>group C</td>\n      <td>some college</td>\n      <td>standard</td>\n      <td>completed</td>\n      <td>69</td>\n      <td>90</td>\n      <td>88</td>\n      <td>247</td>\n      <td>82</td>\n    </tr>\n    <tr>\n      <th>2</th>\n      <td>female</td>\n      <td>group B</td>\n      <td>master's degree</td>\n      <td>standard</td>\n      <td>none</td>\n      <td>90</td>\n      <td>95</td>\n      <td>93</td>\n      <td>278</td>\n      <td>92</td>\n    </tr>\n    <tr>\n      <th>3</th>\n      <td>male</td>\n      <td>group A</td>\n      <td>associate's degree</td>\n      <td>free/reduced</td>\n      <td>none</td>\n      <td>47</td>\n      <td>57</td>\n      <td>44</td>\n      <td>148</td>\n      <td>49</td>\n    </tr>\n    <tr>\n      <th>4</th>\n      <td>male</td>\n      <td>group C</td>\n      <td>some college</td>\n      <td>standard</td>\n      <td>none</td>\n      <td>76</td>\n      <td>78</td>\n      <td>75</td>\n      <td>229</td>\n      <td>76</td>\n    </tr>\n  </tbody>\n</table>\n</div>"
     },
     "execution_count": 10,
     "metadata": {},
     "output_type": "execute_result"
    }
   ],
   "source": [
    "# add column of gpa(mean of all scores) for each student\n",
    "students_data['GPA'] = students_data.total_score/3\n",
    "students_data.GPA = students_data.GPA.astype('int64')\n",
    "students_data.head()"
   ],
   "metadata": {
    "collapsed": false,
    "pycharm": {
     "name": "#%%\n"
    }
   }
  },
  {
   "cell_type": "code",
   "execution_count": 11,
   "outputs": [],
   "source": [
    "# create function for counting grades\n",
    "\n",
    "def grades(gpa):\n",
    "    if(gpa >= 90):\n",
    "        return 'A'\n",
    "    if(gpa >= 80):\n",
    "        return 'B'\n",
    "    if(gpa >= 70):\n",
    "        return 'C'\n",
    "    if(gpa >= 60):\n",
    "        return 'D'\n",
    "    if(gpa >= 40):\n",
    "        return 'E'\n",
    "    else :\n",
    "        return 'F'\n",
    "\n",
    "# add column grade in dataframe\n",
    "students_data['grades'] = students_data.apply(lambda g: grades(g['GPA']), axis = 1)"
   ],
   "metadata": {
    "collapsed": false,
    "pycharm": {
     "name": "#%%\n"
    }
   }
  },
  {
   "cell_type": "code",
   "execution_count": 12,
   "outputs": [
    {
     "data": {
      "text/plain": "   gender race/ethnicity parental_level_of_education         lunch  \\\n0  female        group B           bachelor's degree      standard   \n1  female        group C                some college      standard   \n2  female        group B             master's degree      standard   \n3    male        group A          associate's degree  free/reduced   \n4    male        group C                some college      standard   \n\n  test_preparation_course  math_score  reading_score  writing_score  \\\n0                    none          72             72             74   \n1               completed          69             90             88   \n2                    none          90             95             93   \n3                    none          47             57             44   \n4                    none          76             78             75   \n\n   total_score  GPA grades  \n0          218   72      C  \n1          247   82      B  \n2          278   92      A  \n3          148   49      E  \n4          229   76      C  ",
      "text/html": "<div>\n<style scoped>\n    .dataframe tbody tr th:only-of-type {\n        vertical-align: middle;\n    }\n\n    .dataframe tbody tr th {\n        vertical-align: top;\n    }\n\n    .dataframe thead th {\n        text-align: right;\n    }\n</style>\n<table border=\"1\" class=\"dataframe\">\n  <thead>\n    <tr style=\"text-align: right;\">\n      <th></th>\n      <th>gender</th>\n      <th>race/ethnicity</th>\n      <th>parental_level_of_education</th>\n      <th>lunch</th>\n      <th>test_preparation_course</th>\n      <th>math_score</th>\n      <th>reading_score</th>\n      <th>writing_score</th>\n      <th>total_score</th>\n      <th>GPA</th>\n      <th>grades</th>\n    </tr>\n  </thead>\n  <tbody>\n    <tr>\n      <th>0</th>\n      <td>female</td>\n      <td>group B</td>\n      <td>bachelor's degree</td>\n      <td>standard</td>\n      <td>none</td>\n      <td>72</td>\n      <td>72</td>\n      <td>74</td>\n      <td>218</td>\n      <td>72</td>\n      <td>C</td>\n    </tr>\n    <tr>\n      <th>1</th>\n      <td>female</td>\n      <td>group C</td>\n      <td>some college</td>\n      <td>standard</td>\n      <td>completed</td>\n      <td>69</td>\n      <td>90</td>\n      <td>88</td>\n      <td>247</td>\n      <td>82</td>\n      <td>B</td>\n    </tr>\n    <tr>\n      <th>2</th>\n      <td>female</td>\n      <td>group B</td>\n      <td>master's degree</td>\n      <td>standard</td>\n      <td>none</td>\n      <td>90</td>\n      <td>95</td>\n      <td>93</td>\n      <td>278</td>\n      <td>92</td>\n      <td>A</td>\n    </tr>\n    <tr>\n      <th>3</th>\n      <td>male</td>\n      <td>group A</td>\n      <td>associate's degree</td>\n      <td>free/reduced</td>\n      <td>none</td>\n      <td>47</td>\n      <td>57</td>\n      <td>44</td>\n      <td>148</td>\n      <td>49</td>\n      <td>E</td>\n    </tr>\n    <tr>\n      <th>4</th>\n      <td>male</td>\n      <td>group C</td>\n      <td>some college</td>\n      <td>standard</td>\n      <td>none</td>\n      <td>76</td>\n      <td>78</td>\n      <td>75</td>\n      <td>229</td>\n      <td>76</td>\n      <td>C</td>\n    </tr>\n  </tbody>\n</table>\n</div>"
     },
     "execution_count": 12,
     "metadata": {},
     "output_type": "execute_result"
    }
   ],
   "source": [
    "students_data.head()\n"
   ],
   "metadata": {
    "collapsed": false,
    "pycharm": {
     "name": "#%%\n"
    }
   }
  },
  {
   "cell_type": "code",
   "execution_count": 13,
   "outputs": [
    {
     "data": {
      "text/plain": "gender                         0\nrace/ethnicity                 0\nparental_level_of_education    0\nlunch                          0\ntest_preparation_course        0\nmath_score                     0\nreading_score                  0\nwriting_score                  0\ntotal_score                    0\nGPA                            0\ngrades                         0\ndtype: int64"
     },
     "execution_count": 13,
     "metadata": {},
     "output_type": "execute_result"
    }
   ],
   "source": [
    "students_data.isnull().sum()\n"
   ],
   "metadata": {
    "collapsed": false,
    "pycharm": {
     "name": "#%%\n"
    }
   }
  },
  {
   "cell_type": "code",
   "execution_count": 14,
   "outputs": [
    {
     "data": {
      "text/plain": "gender                         object\nrace/ethnicity                 object\nparental_level_of_education    object\nlunch                          object\ntest_preparation_course        object\nmath_score                      int64\nreading_score                   int64\nwriting_score                   int64\ntotal_score                     int64\nGPA                             int64\ngrades                         object\ndtype: object"
     },
     "execution_count": 14,
     "metadata": {},
     "output_type": "execute_result"
    }
   ],
   "source": [
    "# check data types\n",
    "students_data.dtypes"
   ],
   "metadata": {
    "collapsed": false,
    "pycharm": {
     "name": "#%%\n"
    }
   }
  },
  {
   "cell_type": "code",
   "execution_count": 15,
   "outputs": [
    {
     "data": {
      "text/plain": "<Figure size 432x288 with 1 Axes>",
      "image/png": "[encoded data removed]"
     },
     "metadata": {},
     "output_type": "display_data"
    }
   ],
   "source": [
    "# Compare amount of each group of gender feature\n",
    "sns.set_style('darkgrid')\n",
    "sns.countplot(x=students_data.gender)\n",
    "plt.title('Amount of each gender')\n",
    "plt.show()"
   ],
   "metadata": {
    "collapsed": false,
    "pycharm": {
     "name": "#%%\n"
    }
   }
  },
  {
   "cell_type": "code",
   "execution_count": 16,
   "outputs": [
    {
     "data": {
      "text/plain": "<Figure size 432x288 with 1 Axes>",
      "image/png": "[encoded data removed]"
     },
     "metadata": {},
     "output_type": "display_data"
    }
   ],
   "source": [
    "# Compare amount of each group of grades feature\n",
    "sns.countplot(x=students_data.grades)\n",
    "plt.title('Amount of each grade')\n",
    "plt.show()"
   ],
   "metadata": {
    "collapsed": false,
    "pycharm": {
     "name": "#%%\n"
    }
   }
  },
  {
   "cell_type": "code",
   "execution_count": 17,
   "outputs": [
    {
     "data": {
      "text/plain": "<Figure size 648x432 with 1 Axes>",
      "image/png": "[encoded data removed]"
     },
     "metadata": {},
     "output_type": "display_data"
    }
   ],
   "source": [
    "# show value counts for two categorical variables (gender, grades)\n",
    "\n",
    "plt.figure(figsize=(9, 6))\n",
    "sns.set_style('white')\n",
    "sns.color_palette('gist_earth')\n",
    "sns.countplot(x='grades', hue='gender', data=students_data)\n",
    "plt.title(\"Comparison of each gender's amount in each grade's group\")\n",
    "plt.show()\n"
   ],
   "metadata": {
    "collapsed": false,
    "pycharm": {
     "name": "#%%\n"
    }
   }
  },
  {
   "cell_type": "markdown",
   "source": [
    "Comparison in below table shows that those scores who chose standard lunch are higher than those who chose free/reduced type of lunch\n",
    "\n"
   ],
   "metadata": {
    "collapsed": false
   }
  },
  {
   "cell_type": "code",
   "execution_count": 18,
   "outputs": [
    {
     "data": {
      "text/plain": "                     math_score  reading_score  total_score  writing_score\nlunch        gender                                                       \nfree/reduced female          57           67.0          193             68\n             male            62           61.0          182             59\nstandard     female          67           75.0          219             76\n             male            72           67.5          206             67",
      "text/html": "<div>\n<style scoped>\n    .dataframe tbody tr th:only-of-type {\n        vertical-align: middle;\n    }\n\n    .dataframe tbody tr th {\n        vertical-align: top;\n    }\n\n    .dataframe thead th {\n        text-align: right;\n    }\n</style>\n<table border=\"1\" class=\"dataframe\">\n  <thead>\n    <tr style=\"text-align: right;\">\n      <th></th>\n      <th></th>\n      <th>math_score</th>\n      <th>reading_score</th>\n      <th>total_score</th>\n      <th>writing_score</th>\n    </tr>\n    <tr>\n      <th>lunch</th>\n      <th>gender</th>\n      <th></th>\n      <th></th>\n      <th></th>\n      <th></th>\n    </tr>\n  </thead>\n  <tbody>\n    <tr>\n      <th rowspan=\"2\" valign=\"top\">free/reduced</th>\n      <th>female</th>\n      <td>57</td>\n      <td>67.0</td>\n      <td>193</td>\n      <td>68</td>\n    </tr>\n    <tr>\n      <th>male</th>\n      <td>62</td>\n      <td>61.0</td>\n      <td>182</td>\n      <td>59</td>\n    </tr>\n    <tr>\n      <th rowspan=\"2\" valign=\"top\">standard</th>\n      <th>female</th>\n      <td>67</td>\n      <td>75.0</td>\n      <td>219</td>\n      <td>76</td>\n    </tr>\n    <tr>\n      <th>male</th>\n      <td>72</td>\n      <td>67.5</td>\n      <td>206</td>\n      <td>67</td>\n    </tr>\n  </tbody>\n</table>\n</div>"
     },
     "execution_count": 18,
     "metadata": {},
     "output_type": "execute_result"
    }
   ],
   "source": [
    "# lets check effect of lunch on students performance by creating pivot table\n",
    "\n",
    "students_data.pivot_table(index=['lunch','gender'],\n",
    "                          values=['math_score', 'reading_score', 'writing_score', 'total_score'],\n",
    "                          aggfunc='median')"
   ],
   "metadata": {
    "collapsed": false,
    "pycharm": {
     "name": "#%%\n"
    }
   }
  },
  {
   "cell_type": "code",
   "execution_count": 19,
   "outputs": [
    {
     "data": {
      "text/plain": "<Figure size 1080x432 with 1 Axes>",
      "image/png": "[encoded data removed]"
     },
     "metadata": {},
     "output_type": "display_data"
    }
   ],
   "source": [
    "# lets plot the comparison of math score for all students\n",
    "\n",
    "plt.figure(figsize=(15, 6))\n",
    "sns.countplot(x=students_data.math_score)\n",
    "plt.title('Comparison of math score among all students')\n",
    "plt.xticks(rotation=90)\n",
    "plt.show()"
   ],
   "metadata": {
    "collapsed": false,
    "pycharm": {
     "name": "#%%\n"
    }
   }
  },
  {
   "cell_type": "code",
   "execution_count": 20,
   "outputs": [
    {
     "data": {
      "text/plain": "<Figure size 648x360 with 1 Axes>",
      "image/png": "[encoded data removed]"
     },
     "metadata": {},
     "output_type": "display_data"
    }
   ],
   "source": [
    "# visualize comparison of parental level of education\n",
    "\n",
    "plt.figure(figsize=(9, 5))\n",
    "\n",
    "sns.set_style('whitegrid')\n",
    "sns.countplot(x=students_data.parental_level_of_education)\n",
    "plt.title('Amount of each type parental level of education')\n",
    "plt.xticks(rotation=45)\n",
    "plt.show()\n"
   ],
   "metadata": {
    "collapsed": false,
    "pycharm": {
     "name": "#%%\n"
    }
   }
  },
  {
   "cell_type": "markdown",
   "source": [
    "From below showed table we can see that female outnumber male in higher grates in most of degree groups"
   ],
   "metadata": {
    "collapsed": false
   }
  },
  {
   "cell_type": "code",
   "execution_count": 21,
   "outputs": [
    {
     "data": {
      "text/plain": "grades                           A             B             C             D  \\\ngender                      female   male female   male female   male female   \nparental_level_of_education                                                    \nassociate's degree           276.0  278.0  259.5  245.0  226.5  225.0    198   \nbachelor's degree            292.0  278.5  254.5  253.0  221.0  223.5    202   \nhigh school                  284.5    0.0  248.0  247.5  224.0  217.0    197   \nmaster's degree              284.5    0.0  259.0  259.0  225.0  231.0    190   \nsome college                 275.0  280.0  254.0  251.5  223.0  225.0    195   \nsome high school             281.5    0.0  251.0  247.5  224.5  226.0    198   \n\ngrades                                  E             F       \ngender                        male female   male female male  \nparental_level_of_education                                   \nassociate's degree           195.5  160.5  156.0     95  119  \nbachelor's degree            195.5  168.0  155.5    117  119  \nhigh school                  198.0  158.0  157.0    103   97  \nmaster's degree              199.5  161.0  154.0      0    0  \nsome college                 191.0  168.0  154.5     94   90  \nsome high school             197.5  155.5  158.5     91  115  ",
      "text/html": "<div>\n<style scoped>\n    .dataframe tbody tr th:only-of-type {\n        vertical-align: middle;\n    }\n\n    .dataframe tbody tr th {\n        vertical-align: top;\n    }\n\n    .dataframe thead tr th {\n        text-align: left;\n    }\n\n    .dataframe thead tr:last-of-type th {\n        text-align: right;\n    }\n</style>\n<table border=\"1\" class=\"dataframe\">\n  <thead>\n    <tr>\n      <th>grades</th>\n      <th colspan=\"2\" halign=\"left\">A</th>\n      <th colspan=\"2\" halign=\"left\">B</th>\n      <th colspan=\"2\" halign=\"left\">C</th>\n      <th colspan=\"2\" halign=\"left\">D</th>\n      <th colspan=\"2\" halign=\"left\">E</th>\n      <th colspan=\"2\" halign=\"left\">F</th>\n    </tr>\n    <tr>\n      <th>gender</th>\n      <th>female</th>\n      <th>male</th>\n      <th>female</th>\n      <th>male</th>\n      <th>female</th>\n      <th>male</th>\n      <th>female</th>\n      <th>male</th>\n      <th>female</th>\n      <th>male</th>\n      <th>female</th>\n      <th>male</th>\n    </tr>\n    <tr>\n      <th>parental_level_of_education</th>\n      <th></th>\n      <th></th>\n      <th></th>\n      <th></th>\n      <th></th>\n      <th></th>\n      <th></th>\n      <th></th>\n      <th></th>\n      <th></th>\n      <th></th>\n      <th></th>\n    </tr>\n  </thead>\n  <tbody>\n    <tr>\n      <th>associate's degree</th>\n      <td>276.0</td>\n      <td>278.0</td>\n      <td>259.5</td>\n      <td>245.0</td>\n      <td>226.5</td>\n      <td>225.0</td>\n      <td>198</td>\n      <td>195.5</td>\n      <td>160.5</td>\n      <td>156.0</td>\n      <td>95</td>\n      <td>119</td>\n    </tr>\n    <tr>\n      <th>bachelor's degree</th>\n      <td>292.0</td>\n      <td>278.5</td>\n      <td>254.5</td>\n      <td>253.0</td>\n      <td>221.0</td>\n      <td>223.5</td>\n      <td>202</td>\n      <td>195.5</td>\n      <td>168.0</td>\n      <td>155.5</td>\n      <td>117</td>\n      <td>119</td>\n    </tr>\n    <tr>\n      <th>high school</th>\n      <td>284.5</td>\n      <td>0.0</td>\n      <td>248.0</td>\n      <td>247.5</td>\n      <td>224.0</td>\n      <td>217.0</td>\n      <td>197</td>\n      <td>198.0</td>\n      <td>158.0</td>\n      <td>157.0</td>\n      <td>103</td>\n      <td>97</td>\n    </tr>\n    <tr>\n      <th>master's degree</th>\n      <td>284.5</td>\n      <td>0.0</td>\n      <td>259.0</td>\n      <td>259.0</td>\n      <td>225.0</td>\n      <td>231.0</td>\n      <td>190</td>\n      <td>199.5</td>\n      <td>161.0</td>\n      <td>154.0</td>\n      <td>0</td>\n      <td>0</td>\n    </tr>\n    <tr>\n      <th>some college</th>\n      <td>275.0</td>\n      <td>280.0</td>\n      <td>254.0</td>\n      <td>251.5</td>\n      <td>223.0</td>\n      <td>225.0</td>\n      <td>195</td>\n      <td>191.0</td>\n      <td>168.0</td>\n      <td>154.5</td>\n      <td>94</td>\n      <td>90</td>\n    </tr>\n    <tr>\n      <th>some high school</th>\n      <td>281.5</td>\n      <td>0.0</td>\n      <td>251.0</td>\n      <td>247.5</td>\n      <td>224.5</td>\n      <td>226.0</td>\n      <td>198</td>\n      <td>197.5</td>\n      <td>155.5</td>\n      <td>158.5</td>\n      <td>91</td>\n      <td>115</td>\n    </tr>\n  </tbody>\n</table>\n</div>"
     },
     "execution_count": 21,
     "metadata": {},
     "output_type": "execute_result"
    }
   ],
   "source": [
    "# check connections between parental level and total score among each grade group in pivot table\n",
    "\n",
    "students_data.pivot_table(index='parental_level_of_education',\n",
    "                          columns=['grades', 'gender'],\n",
    "                          values='total_score',\n",
    "                          aggfunc='median',\n",
    "                          fill_value=0)\n"
   ],
   "metadata": {
    "collapsed": false,
    "pycharm": {
     "name": "#%%\n"
    }
   }
  },
  {
   "cell_type": "markdown",
   "source": [
    "Here we can see that total scores among all students are mach higher in master's, bachelor's and associate's degrees than in others degrees"
   ],
   "metadata": {
    "collapsed": false
   }
  },
  {
   "cell_type": "code",
   "execution_count": 22,
   "outputs": [
    {
     "data": {
      "text/plain": "                            math_score             reading_score              \\\ngender                          female  male   All        female  male   All   \nparental_level_of_education                                                    \nassociate's degree                65.0  72.0  67.0          75.5  68.0  72.5   \nbachelor's degree                 67.0  70.0  68.0          76.0  67.0  73.0   \nhigh school                       61.0  66.0  63.0          69.5  61.5  66.0   \nmaster's degree                   64.5  79.0  73.0          74.0  77.0  76.0   \nsome college                      65.5  69.0  67.5          74.0  63.5  70.5   \nsome high school                  63.0  68.0  65.0          71.0  66.0  67.0   \nAll                               65.0  69.0  66.0          73.0  66.0  70.0   \n\n                            total_score               writing_score        \\\ngender                           female   male    All        female  male   \nparental_level_of_education                                                 \nassociate's degree                214.0  206.5  209.0          74.0  65.5   \nbachelor's degree                 221.0  204.0  213.5          80.0  68.0   \nhigh school                       198.0  187.5  195.0          68.0  58.5   \nmaster's degree                   213.5  231.0  220.0          76.5  74.0   \nsome college                      216.0  195.5  206.0          74.5  62.5   \nsome high school                  206.0  196.5  200.0          72.0  61.5   \nAll                               211.0  199.0  205.0          74.0  64.0   \n\n                                   \ngender                        All  \nparental_level_of_education        \nassociate's degree           70.5  \nbachelor's degree            74.0  \nhigh school                  64.0  \nmaster's degree              75.0  \nsome college                 70.0  \nsome high school             66.0  \nAll                          69.0  ",
      "text/html": "<div>\n<style scoped>\n    .dataframe tbody tr th:only-of-type {\n        vertical-align: middle;\n    }\n\n    .dataframe tbody tr th {\n        vertical-align: top;\n    }\n\n    .dataframe thead tr th {\n        text-align: left;\n    }\n\n    .dataframe thead tr:last-of-type th {\n        text-align: right;\n    }\n</style>\n<table border=\"1\" class=\"dataframe\">\n  <thead>\n    <tr>\n      <th></th>\n      <th colspan=\"3\" halign=\"left\">math_score</th>\n      <th colspan=\"3\" halign=\"left\">reading_score</th>\n      <th colspan=\"3\" halign=\"left\">total_score</th>\n      <th colspan=\"3\" halign=\"left\">writing_score</th>\n    </tr>\n    <tr>\n      <th>gender</th>\n      <th>female</th>\n      <th>male</th>\n      <th>All</th>\n      <th>female</th>\n      <th>male</th>\n      <th>All</th>\n      <th>female</th>\n      <th>male</th>\n      <th>All</th>\n      <th>female</th>\n      <th>male</th>\n      <th>All</th>\n    </tr>\n    <tr>\n      <th>parental_level_of_education</th>\n      <th></th>\n      <th></th>\n      <th></th>\n      <th></th>\n      <th></th>\n      <th></th>\n      <th></th>\n      <th></th>\n      <th></th>\n      <th></th>\n      <th></th>\n      <th></th>\n    </tr>\n  </thead>\n  <tbody>\n    <tr>\n      <th>associate's degree</th>\n      <td>65.0</td>\n      <td>72.0</td>\n      <td>67.0</td>\n      <td>75.5</td>\n      <td>68.0</td>\n      <td>72.5</td>\n      <td>214.0</td>\n      <td>206.5</td>\n      <td>209.0</td>\n      <td>74.0</td>\n      <td>65.5</td>\n      <td>70.5</td>\n    </tr>\n    <tr>\n      <th>bachelor's degree</th>\n      <td>67.0</td>\n      <td>70.0</td>\n      <td>68.0</td>\n      <td>76.0</td>\n      <td>67.0</td>\n      <td>73.0</td>\n      <td>221.0</td>\n      <td>204.0</td>\n      <td>213.5</td>\n      <td>80.0</td>\n      <td>68.0</td>\n      <td>74.0</td>\n    </tr>\n    <tr>\n      <th>high school</th>\n      <td>61.0</td>\n      <td>66.0</td>\n      <td>63.0</td>\n      <td>69.5</td>\n      <td>61.5</td>\n      <td>66.0</td>\n      <td>198.0</td>\n      <td>187.5</td>\n      <td>195.0</td>\n      <td>68.0</td>\n      <td>58.5</td>\n      <td>64.0</td>\n    </tr>\n    <tr>\n      <th>master's degree</th>\n      <td>64.5</td>\n      <td>79.0</td>\n      <td>73.0</td>\n      <td>74.0</td>\n      <td>77.0</td>\n      <td>76.0</td>\n      <td>213.5</td>\n      <td>231.0</td>\n      <td>220.0</td>\n      <td>76.5</td>\n      <td>74.0</td>\n      <td>75.0</td>\n    </tr>\n    <tr>\n      <th>some college</th>\n      <td>65.5</td>\n      <td>69.0</td>\n      <td>67.5</td>\n      <td>74.0</td>\n      <td>63.5</td>\n      <td>70.5</td>\n      <td>216.0</td>\n      <td>195.5</td>\n      <td>206.0</td>\n      <td>74.5</td>\n      <td>62.5</td>\n      <td>70.0</td>\n    </tr>\n    <tr>\n      <th>some high school</th>\n      <td>63.0</td>\n      <td>68.0</td>\n      <td>65.0</td>\n      <td>71.0</td>\n      <td>66.0</td>\n      <td>67.0</td>\n      <td>206.0</td>\n      <td>196.5</td>\n      <td>200.0</td>\n      <td>72.0</td>\n      <td>61.5</td>\n      <td>66.0</td>\n    </tr>\n    <tr>\n      <th>All</th>\n      <td>65.0</td>\n      <td>69.0</td>\n      <td>66.0</td>\n      <td>73.0</td>\n      <td>66.0</td>\n      <td>70.0</td>\n      <td>211.0</td>\n      <td>199.0</td>\n      <td>205.0</td>\n      <td>74.0</td>\n      <td>64.0</td>\n      <td>69.0</td>\n    </tr>\n  </tbody>\n</table>\n</div>"
     },
     "execution_count": 22,
     "metadata": {},
     "output_type": "execute_result"
    }
   ],
   "source": [
    "# check connections between parental level and  scores\n",
    "\n",
    "students_data.pivot_table(index='parental_level_of_education',\n",
    "                          columns='gender',\n",
    "                          values=['math_score', 'writing_score', 'reading_score', 'total_score'],\n",
    "                          aggfunc='median',\n",
    "                          margins=True)"
   ],
   "metadata": {
    "collapsed": false,
    "pycharm": {
     "name": "#%%\n"
    }
   }
  },
  {
   "cell_type": "code",
   "execution_count": 23,
   "outputs": [],
   "source": [
    "# adding status column for total status level\n",
    "\n",
    "students_data['total_status'] = np.where(students_data.grades=='F', 'fail', 'passed')"
   ],
   "metadata": {
    "collapsed": false,
    "pycharm": {
     "name": "#%%\n"
    }
   }
  },
  {
   "cell_type": "markdown",
   "source": [
    "From next two tables it is obvious that male are stronger in math than female, and female outnumber male in writing and reading. And among all students percentage of course compilation is 97%.\n"
   ],
   "metadata": {
    "collapsed": false
   }
  },
  {
   "cell_type": "code",
   "execution_count": 24,
   "outputs": [
    {
     "data": {
      "text/plain": "                                math_score  reading_score  writing_score  \\\ntest_preparation_course gender                                             \ncompleted               female        67.0           78.0           79.0   \n                        male          73.0           71.0           70.0   \nnone                    female        62.0           71.0           70.0   \n                        male          67.0           63.0           60.0   \n\n                                total_score   GPA  \ntest_preparation_course gender                     \ncompleted               female        224.0  74.0  \n                        male          213.0  71.0  \nnone                    female        202.5  67.0  \n                        male          189.0  63.0  ",
      "text/html": "<div>\n<style scoped>\n    .dataframe tbody tr th:only-of-type {\n        vertical-align: middle;\n    }\n\n    .dataframe tbody tr th {\n        vertical-align: top;\n    }\n\n    .dataframe thead th {\n        text-align: right;\n    }\n</style>\n<table border=\"1\" class=\"dataframe\">\n  <thead>\n    <tr style=\"text-align: right;\">\n      <th></th>\n      <th></th>\n      <th>math_score</th>\n      <th>reading_score</th>\n      <th>writing_score</th>\n      <th>total_score</th>\n      <th>GPA</th>\n    </tr>\n    <tr>\n      <th>test_preparation_course</th>\n      <th>gender</th>\n      <th></th>\n      <th></th>\n      <th></th>\n      <th></th>\n      <th></th>\n    </tr>\n  </thead>\n  <tbody>\n    <tr>\n      <th rowspan=\"2\" valign=\"top\">completed</th>\n      <th>female</th>\n      <td>67.0</td>\n      <td>78.0</td>\n      <td>79.0</td>\n      <td>224.0</td>\n      <td>74.0</td>\n    </tr>\n    <tr>\n      <th>male</th>\n      <td>73.0</td>\n      <td>71.0</td>\n      <td>70.0</td>\n      <td>213.0</td>\n      <td>71.0</td>\n    </tr>\n    <tr>\n      <th rowspan=\"2\" valign=\"top\">none</th>\n      <th>female</th>\n      <td>62.0</td>\n      <td>71.0</td>\n      <td>70.0</td>\n      <td>202.5</td>\n      <td>67.0</td>\n    </tr>\n    <tr>\n      <th>male</th>\n      <td>67.0</td>\n      <td>63.0</td>\n      <td>60.0</td>\n      <td>189.0</td>\n      <td>63.0</td>\n    </tr>\n  </tbody>\n</table>\n</div>"
     },
     "execution_count": 24,
     "metadata": {},
     "output_type": "execute_result"
    }
   ],
   "source": [
    "students_data.groupby(['test_preparation_course','gender']).agg('median')"
   ],
   "metadata": {
    "collapsed": false,
    "pycharm": {
     "name": "#%%\n"
    }
   }
  },
  {
   "cell_type": "code",
   "execution_count": 25,
   "outputs": [
    {
     "data": {
      "text/plain": "total_status                 fail  passed   All\nparental_level_of_education                    \nassociate's degree              2     220   222\nbachelor's degree               2     116   118\nhigh school                    10     186   196\nmaster's degree                 0      59    59\nsome college                    6     220   226\nsome high school               10     169   179\nAll                            30     970  1000",
      "text/html": "<div>\n<style scoped>\n    .dataframe tbody tr th:only-of-type {\n        vertical-align: middle;\n    }\n\n    .dataframe tbody tr th {\n        vertical-align: top;\n    }\n\n    .dataframe thead th {\n        text-align: right;\n    }\n</style>\n<table border=\"1\" class=\"dataframe\">\n  <thead>\n    <tr style=\"text-align: right;\">\n      <th>total_status</th>\n      <th>fail</th>\n      <th>passed</th>\n      <th>All</th>\n    </tr>\n    <tr>\n      <th>parental_level_of_education</th>\n      <th></th>\n      <th></th>\n      <th></th>\n    </tr>\n  </thead>\n  <tbody>\n    <tr>\n      <th>associate's degree</th>\n      <td>2</td>\n      <td>220</td>\n      <td>222</td>\n    </tr>\n    <tr>\n      <th>bachelor's degree</th>\n      <td>2</td>\n      <td>116</td>\n      <td>118</td>\n    </tr>\n    <tr>\n      <th>high school</th>\n      <td>10</td>\n      <td>186</td>\n      <td>196</td>\n    </tr>\n    <tr>\n      <th>master's degree</th>\n      <td>0</td>\n      <td>59</td>\n      <td>59</td>\n    </tr>\n    <tr>\n      <th>some college</th>\n      <td>6</td>\n      <td>220</td>\n      <td>226</td>\n    </tr>\n    <tr>\n      <th>some high school</th>\n      <td>10</td>\n      <td>169</td>\n      <td>179</td>\n    </tr>\n    <tr>\n      <th>All</th>\n      <td>30</td>\n      <td>970</td>\n      <td>1000</td>\n    </tr>\n  </tbody>\n</table>\n</div>"
     },
     "execution_count": 25,
     "metadata": {},
     "output_type": "execute_result"
    }
   ],
   "source": [
    "# check connections between parental level and status of passing among all students\n",
    "\n",
    "students_data.pivot_table(index='parental_level_of_education',\n",
    "                          columns='total_status',\n",
    "                          values='gender',\n",
    "                          aggfunc='count',\n",
    "                          margins=True,\n",
    "                          fill_value=0)"
   ],
   "metadata": {
    "collapsed": false,
    "pycharm": {
     "name": "#%%\n"
    }
   }
  },
  {
   "cell_type": "code",
   "execution_count": 26,
   "outputs": [
    {
     "data": {
      "text/plain": "<Figure size 648x432 with 1 Axes>",
      "image/png": "[encoded data removed]"
     },
     "metadata": {},
     "output_type": "display_data"
    }
   ],
   "source": [
    "# one more final visualization for checking if race/ethnicity is connected with total status level in some case or not\n",
    "\n",
    "plt.figure(figsize=(9, 6))\n",
    "sns.countplot(x='race/ethnicity', hue='total_status', data=students_data)\n",
    "plt.title('Connection between race/ethnicity and total status values')\n",
    "plt.show()\n"
   ],
   "metadata": {
    "collapsed": false,
    "pycharm": {
     "name": "#%%\n"
    }
   }
  },
  {
   "cell_type": "markdown",
   "source": [
    "# Preprocessing and Model building"
   ],
   "metadata": {
    "collapsed": false
   }
  },
  {
   "cell_type": "code",
   "execution_count": 27,
   "outputs": [
    {
     "data": {
      "text/plain": "   gender race/ethnicity parental_level_of_education         lunch  \\\n0  female        group B           bachelor's degree      standard   \n1  female        group C                some college      standard   \n2  female        group B             master's degree      standard   \n3    male        group A          associate's degree  free/reduced   \n4    male        group C                some college      standard   \n\n  test_preparation_course  math_score  reading_score  writing_score  \\\n0                    none          72             72             74   \n1               completed          69             90             88   \n2                    none          90             95             93   \n3                    none          47             57             44   \n4                    none          76             78             75   \n\n   total_score  GPA grades total_status  \n0          218   72      C       passed  \n1          247   82      B       passed  \n2          278   92      A       passed  \n3          148   49      E       passed  \n4          229   76      C       passed  ",
      "text/html": "<div>\n<style scoped>\n    .dataframe tbody tr th:only-of-type {\n        vertical-align: middle;\n    }\n\n    .dataframe tbody tr th {\n        vertical-align: top;\n    }\n\n    .dataframe thead th {\n        text-align: right;\n    }\n</style>\n<table border=\"1\" class=\"dataframe\">\n  <thead>\n    <tr style=\"text-align: right;\">\n      <th></th>\n      <th>gender</th>\n      <th>race/ethnicity</th>\n      <th>parental_level_of_education</th>\n      <th>lunch</th>\n      <th>test_preparation_course</th>\n      <th>math_score</th>\n      <th>reading_score</th>\n      <th>writing_score</th>\n      <th>total_score</th>\n      <th>GPA</th>\n      <th>grades</th>\n      <th>total_status</th>\n    </tr>\n  </thead>\n  <tbody>\n    <tr>\n      <th>0</th>\n      <td>female</td>\n      <td>group B</td>\n      <td>bachelor's degree</td>\n      <td>standard</td>\n      <td>none</td>\n      <td>72</td>\n      <td>72</td>\n      <td>74</td>\n      <td>218</td>\n      <td>72</td>\n      <td>C</td>\n      <td>passed</td>\n    </tr>\n    <tr>\n      <th>1</th>\n      <td>female</td>\n      <td>group C</td>\n      <td>some college</td>\n      <td>standard</td>\n      <td>completed</td>\n      <td>69</td>\n      <td>90</td>\n      <td>88</td>\n      <td>247</td>\n      <td>82</td>\n      <td>B</td>\n      <td>passed</td>\n    </tr>\n    <tr>\n      <th>2</th>\n      <td>female</td>\n      <td>group B</td>\n      <td>master's degree</td>\n      <td>standard</td>\n      <td>none</td>\n      <td>90</td>\n      <td>95</td>\n      <td>93</td>\n      <td>278</td>\n      <td>92</td>\n      <td>A</td>\n      <td>passed</td>\n    </tr>\n    <tr>\n      <th>3</th>\n      <td>male</td>\n      <td>group A</td>\n      <td>associate's degree</td>\n      <td>free/reduced</td>\n      <td>none</td>\n      <td>47</td>\n      <td>57</td>\n      <td>44</td>\n      <td>148</td>\n      <td>49</td>\n      <td>E</td>\n      <td>passed</td>\n    </tr>\n    <tr>\n      <th>4</th>\n      <td>male</td>\n      <td>group C</td>\n      <td>some college</td>\n      <td>standard</td>\n      <td>none</td>\n      <td>76</td>\n      <td>78</td>\n      <td>75</td>\n      <td>229</td>\n      <td>76</td>\n      <td>C</td>\n      <td>passed</td>\n    </tr>\n  </tbody>\n</table>\n</div>"
     },
     "execution_count": 27,
     "metadata": {},
     "output_type": "execute_result"
    }
   ],
   "source": [
    "# checking our final data\n",
    "\n",
    "students_data.head()\n"
   ],
   "metadata": {
    "collapsed": false,
    "pycharm": {
     "name": "#%%\n"
    }
   }
  },
  {
   "cell_type": "code",
   "execution_count": 28,
   "outputs": [
    {
     "data": {
      "text/plain": "(1000, 12)"
     },
     "execution_count": 28,
     "metadata": {},
     "output_type": "execute_result"
    }
   ],
   "source": [
    "# shape of data\n",
    "\n",
    "students_data.shape"
   ],
   "metadata": {
    "collapsed": false,
    "pycharm": {
     "name": "#%%\n"
    }
   }
  },
  {
   "cell_type": "code",
   "execution_count": 29,
   "outputs": [
    {
     "data": {
      "text/plain": "gender                         0\nrace/ethnicity                 0\nparental_level_of_education    0\nlunch                          0\ntest_preparation_course        0\nmath_score                     0\nreading_score                  0\nwriting_score                  0\ntotal_score                    0\nGPA                            0\ngrades                         0\ntotal_status                   0\ndtype: int64"
     },
     "execution_count": 29,
     "metadata": {},
     "output_type": "execute_result"
    }
   ],
   "source": [
    "# check missing values\n",
    "\n",
    "students_data.isnull().sum()\n"
   ],
   "metadata": {
    "collapsed": false,
    "pycharm": {
     "name": "#%%\n"
    }
   }
  },
  {
   "cell_type": "code",
   "execution_count": 30,
   "outputs": [
    {
     "data": {
      "text/plain": "gender                         2\nrace/ethnicity                 5\nparental_level_of_education    6\nlunch                          2\ntest_preparation_course        2\ngrades                         6\ntotal_status                   2\ndtype: int64"
     },
     "execution_count": 30,
     "metadata": {},
     "output_type": "execute_result"
    }
   ],
   "source": [
    "# check amount of unique items of each qualitative data\n",
    "students_data.select_dtypes(exclude='number').nunique()\n"
   ],
   "metadata": {
    "collapsed": false,
    "pycharm": {
     "name": "#%%\n"
    }
   }
  },
  {
   "cell_type": "markdown",
   "source": [
    "# Importing necessary libraries"
   ],
   "metadata": {
    "collapsed": false
   }
  },
  {
   "cell_type": "code",
   "execution_count": 31,
   "outputs": [],
   "source": [
    "# preprocessing\n",
    "from sklearn.compose import make_column_transformer\n",
    "from sklearn.preprocessing import OneHotEncoder\n",
    "from sklearn.preprocessing import LabelEncoder\n",
    "from sklearn.preprocessing import StandardScaler\n",
    "from sklearn.pipeline import make_pipeline\n",
    "\n",
    "# model selections\n",
    "from sklearn.model_selection import cross_val_score\n",
    "from sklearn.model_selection import train_test_split\n",
    "from sklearn.model_selection import learning_curve\n",
    "\n",
    "# classification models\n",
    "from sklearn.linear_model import LogisticRegression\n",
    "from sklearn.linear_model import SGDClassifier\n",
    "from sklearn.svm import SVC\n",
    "from sklearn.ensemble import RandomForestClassifier\n",
    "from sklearn.neighbors import KNeighborsClassifier\n",
    "from sklearn.ensemble import VotingClassifier\n",
    "from sklearn.ensemble import BaggingClassifier\n",
    "\n",
    "# metrics\n",
    "from sklearn.metrics import accuracy_score\n",
    "from sklearn.metrics import confusion_matrix\n",
    "from sklearn.metrics import classification_report"
   ],
   "metadata": {
    "collapsed": false,
    "pycharm": {
     "name": "#%%\n"
    }
   }
  },
  {
   "cell_type": "markdown",
   "source": [
    "# Prepare data"
   ],
   "metadata": {
    "collapsed": false
   }
  },
  {
   "cell_type": "code",
   "execution_count": 32,
   "outputs": [],
   "source": [
    "# from independent variables we will drop the 'grades' column, which is our dependent variable,\n",
    "# also we will drop 'total_status' column, which is based on 'grades' column, they both based on same logic\n",
    "\n",
    "X = students_data.drop(['total_status', 'grades'], axis='columns')\n",
    "y = students_data.grades"
   ],
   "metadata": {
    "collapsed": false,
    "pycharm": {
     "name": "#%%\n"
    }
   }
  },
  {
   "cell_type": "code",
   "execution_count": 33,
   "outputs": [
    {
     "name": "stdout",
     "output_type": "stream",
     "text": [
      "Shape of X --> (1000, 10)\n",
      "Shape of y --> (1000,)\n"
     ]
    }
   ],
   "source": [
    "print(f'Shape of X --> {X.shape}')\n",
    "print(f'Shape of y --> {y.shape}')\n"
   ],
   "metadata": {
    "collapsed": false,
    "pycharm": {
     "name": "#%%\n"
    }
   }
  },
  {
   "cell_type": "code",
   "execution_count": 34,
   "outputs": [],
   "source": [
    "# split data into train and test split\n",
    "\n",
    "X_train, X_test, y_train, y_test = train_test_split(X, y, test_size=0.3, random_state=42)\n"
   ],
   "metadata": {
    "collapsed": false,
    "pycharm": {
     "name": "#%%\n"
    }
   }
  },
  {
   "cell_type": "code",
   "execution_count": 35,
   "outputs": [],
   "source": [
    "# because we have different features which needs different preprocessing, we will use the folowing\n",
    "\n",
    "transformed = make_column_transformer(\n",
    "    (OneHotEncoder(), ['gender', 'race/ethnicity',\n",
    "                       'parental_level_of_education', 'lunch',\n",
    "                       'test_preparation_course']),\n",
    "    remainder='passthrough'\n",
    ")"
   ],
   "metadata": {
    "collapsed": false,
    "pycharm": {
     "name": "#%%\n"
    }
   }
  },
  {
   "cell_type": "code",
   "execution_count": 36,
   "outputs": [],
   "source": [
    "# separately encode data for further modeling without pipeline technique\n",
    "\n",
    "# encoding independent variables\n",
    "X_ttrain = transformed.fit_transform(X_train)\n",
    "X_ttest = transformed.fit_transform(X_test)\n",
    "\n",
    "# encode only one column- dependent variable:\n",
    "lb_encoder = LabelEncoder()\n",
    "y_ttrain = lb_encoder.fit_transform(y_train)\n",
    "y_ttest = lb_encoder.fit_transform(y_test)\n",
    "\n",
    "# scale data\n",
    "scale = StandardScaler()\n",
    "X_ttrain = scale.fit_transform(X_ttrain)\n",
    "X_ttest = scale.fit_transform(X_ttest)"
   ],
   "metadata": {
    "collapsed": false,
    "pycharm": {
     "name": "#%%\n"
    }
   }
  },
  {
   "cell_type": "markdown",
   "source": [
    "# Make Pipeline"
   ],
   "metadata": {
    "collapsed": false
   }
  },
  {
   "cell_type": "code",
   "execution_count": 37,
   "outputs": [
    {
     "name": "stdout",
     "output_type": "stream",
     "text": [
      "SVC cross_val_score --> 0.9642857142857142\n",
      "SVC accuracy score --> 0.9566666666666667\n",
      "SVC training score --> 0.9985714285714286\n",
      "\n",
      "RandomForestClassifier cross_val_score --> 0.9971428571428571\n",
      "RandomForestClassifier accuracy score --> 0.9966666666666667\n",
      "RandomForestClassifier training score --> 1.0\n",
      "\n",
      "KNeighborsClassifier cross_val_score --> 0.5757142857142858\n",
      "KNeighborsClassifier accuracy score --> 0.5833333333333334\n",
      "KNeighborsClassifier training score --> 0.7428571428571429\n",
      "\n",
      "LogisticRegression cross_val_score --> 0.9414285714285715\n",
      "LogisticRegression accuracy score --> 0.94\n",
      "LogisticRegression training score --> 0.9957142857142857\n",
      "\n"
     ]
    }
   ],
   "source": [
    "# implement make_pipeline for using transformation, scaling, classification models and cross validating as a chane in one pipline\n",
    "\n",
    "lr = LogisticRegression(max_iter=10000, C=10, solver='saga')\n",
    "svc = SVC(kernel='linear', C=10)\n",
    "rf = RandomForestClassifier()\n",
    "knn = KNeighborsClassifier()\n",
    "\n",
    "for clf in [svc, rf, knn, lr]:\n",
    "    pipe = make_pipeline(transformed, StandardScaler(), clf)\n",
    "    cross_score = cross_val_score(pipe, X_train, y_train, cv=10, scoring='accuracy').mean()\n",
    "\n",
    "    # fit models and check training/accuracy scores for each one\n",
    "    pipe.fit(X_train, y_train)\n",
    "    pipe_pred = pipe.predict(X_test)\n",
    "    pipe_accuracy = accuracy_score(y_test, pipe_pred)\n",
    "\n",
    "    print(f\"{clf.__class__.__name__} cross_val_score --> {cross_score}\")\n",
    "    print(f\"{clf.__class__.__name__} accuracy score --> {pipe_accuracy}\")\n",
    "    print(f\"{clf.__class__.__name__} training score --> {pipe.score(X_train, y_train)}\\n\")"
   ],
   "metadata": {
    "collapsed": false,
    "pycharm": {
     "name": "#%%\n"
    }
   }
  },
  {
   "cell_type": "markdown",
   "source": [
    "# Voting technique\n"
   ],
   "metadata": {
    "collapsed": false
   }
  },
  {
   "cell_type": "code",
   "execution_count": 38,
   "outputs": [
    {
     "name": "stdout",
     "output_type": "stream",
     "text": [
      "LogisticRegression training score --> 0.9957142857142857\n",
      "LogisticRegression accuracy score --> 0.8466666666666667 \n",
      "\n",
      "SVC training score --> 0.9985714285714286\n",
      "SVC accuracy score --> 0.86 \n",
      "\n",
      "SGDClassifier training score --> 0.7585714285714286\n",
      "SGDClassifier accuracy score --> 0.6933333333333334 \n",
      "\n",
      "RandomForestClassifier training score --> 1.0\n",
      "RandomForestClassifier accuracy score --> 0.85 \n",
      "\n",
      "KNeighborsClassifier training score --> 0.8342857142857143\n",
      "KNeighborsClassifier accuracy score --> 0.6733333333333333 \n",
      "\n",
      "VotingClassifier training score --> 0.9914285714285714\n",
      "VotingClassifier accuracy score --> 0.8566666666666667 \n",
      "\n"
     ]
    }
   ],
   "source": [
    "# implement Voting soft method with Classifiers (with scaled data)\n",
    "# We will predict the class with the highest class probability, averaged over all the individual classifiers(voting='soft')\n",
    "\n",
    "lr_clf = LogisticRegression(max_iter=10000, C=10)\n",
    "svm_clf = SVC(probability=True, kernel='linear', C=10)\n",
    "sgd_clf = SGDClassifier(loss='modified_huber', average=True, alpha=0.01)\n",
    "rf_clf = RandomForestClassifier()\n",
    "knn_clf = KNeighborsClassifier( metric='manhattan')\n",
    "\n",
    "voting_clf = VotingClassifier(\n",
    "    estimators=[('lr', lr_clf), ('svc', svm_clf), ('sgd', sgd_clf), ('rf', rf_clf), ('knn', knn_clf)],\n",
    "    voting='soft')\n",
    "\n",
    "\n",
    "for clf in [lr_clf, svm_clf, sgd_clf, rf_clf, knn_clf, voting_clf]:\n",
    "    clf.fit(X_ttrain, y_ttrain)\n",
    "    y_pred = clf.predict(X_ttest)\n",
    "    each_accuracy = accuracy_score(y_ttest, y_pred)\n",
    "    train_score = clf.score(X_ttrain, y_ttrain)\n",
    "    print(clf.__class__.__name__, \"training score -->\", train_score)\n",
    "    print(clf.__class__.__name__, \"accuracy score -->\", each_accuracy, '\\n')"
   ],
   "metadata": {
    "collapsed": false,
    "pycharm": {
     "name": "#%%\n"
    }
   }
  },
  {
   "cell_type": "markdown",
   "source": [
    "# Bagging method"
   ],
   "metadata": {
    "collapsed": false
   }
  },
  {
   "cell_type": "code",
   "execution_count": 39,
   "outputs": [
    {
     "name": "stdout",
     "output_type": "stream",
     "text": [
      "Bagging accuracy score:   0.85\n",
      "training score:  1.0\n"
     ]
    },
    {
     "data": {
      "text/plain": "<Figure size 432x288 with 2 Axes>",
      "image/png": "[encoded data removed]"
     },
     "metadata": {},
     "output_type": "display_data"
    }
   ],
   "source": [
    "\"\"\"\n",
    "for the end lets try also Bagging/Bootstrap Aggregating method. (with scaled data)\n",
    "\n",
    "We will use the same training algorithm for every predictor and train them on different\n",
    "random subsets of the training set with sampling replacement(bootstrap=True).\n",
    "The remaining part of the training instances that are not sampled(oob instances) also can be\n",
    "evaluated by ensemble through averaging evaluations of each predictor(oob_score=True).\n",
    "\"\"\"\n",
    "\n",
    "bg_clf = BaggingClassifier(\n",
    "    RandomForestClassifier(random_state=42),\n",
    "    n_estimators=500, bootstrap=True, oob_score=True)\n",
    "bg_clf.fit(X_ttrain, y_ttrain)\n",
    "bg_pred = bg_clf.predict(X_ttest)\n",
    "bg_accuracy_score = accuracy_score(y_ttest, bg_pred)\n",
    "print('Bagging accuracy score:  ', bg_accuracy_score)\n",
    "print('training score: ', bg_clf.score(X_ttrain, y_ttrain))\n",
    "\n",
    "\n",
    "plt.figure(figsize=(6, 4))\n",
    "sns.heatmap(confusion_matrix(y_ttest, bg_pred), annot=True, cmap='viridis')\n",
    "plt.title('Confusion matrix through Bagging Classifier')\n",
    "plt.show()"
   ],
   "metadata": {
    "collapsed": false,
    "pycharm": {
     "name": "#%%\n"
    }
   }
  },
  {
   "cell_type": "markdown",
   "source": [
    "# chose the best model"
   ],
   "metadata": {
    "collapsed": false
   }
  },
  {
   "cell_type": "markdown",
   "source": [
    "As we can see from above used techniques and models, best accuracies have RandomForestClassifier and SVC using pipline.\n",
    "Now lets try this two algorithms separately with pipeline"
   ],
   "metadata": {
    "collapsed": false
   }
  },
  {
   "cell_type": "code",
   "execution_count": 40,
   "outputs": [
    {
     "name": "stdout",
     "output_type": "stream",
     "text": [
      "accuracy score:  0.9566666666666667\n",
      "training score:  0.9985714285714286 \n",
      "\n",
      "\n",
      "Classification report: \n",
      "               precision    recall  f1-score   support\n",
      "\n",
      "           A       0.91      1.00      0.95        10\n",
      "           B       0.98      0.98      0.98        43\n",
      "           C       1.00      0.97      0.99        78\n",
      "           D       0.94      0.97      0.95        75\n",
      "           E       0.95      0.92      0.94        79\n",
      "           F       0.87      0.87      0.87        15\n",
      "\n",
      "    accuracy                           0.96       300\n",
      "   macro avg       0.94      0.95      0.95       300\n",
      "weighted avg       0.96      0.96      0.96       300\n",
      "\n",
      "\n",
      "Confusion matrix: \n",
      " [[10  0  0  0  0  0]\n",
      " [ 1 42  0  0  0  0]\n",
      " [ 0  1 76  1  0  0]\n",
      " [ 0  0  0 73  2  0]\n",
      " [ 0  0  0  4 73  2]\n",
      " [ 0  0  0  0  2 13]]\n"
     ]
    },
    {
     "data": {
      "text/plain": "<Figure size 432x288 with 1 Axes>",
      "image/png": "[encoded data removed]"
     },
     "metadata": {},
     "output_type": "display_data"
    }
   ],
   "source": [
    "# Make predictions and visualization with SMV Classifier (with scaled data)\n",
    "\n",
    "svc_pipe = make_pipeline(transformed, StandardScaler(), SVC(kernel='linear', C=10))\n",
    "svc_pipe.fit(X_train, y_train)\n",
    "svc_pipe_pred = svc_pipe.predict(X_test)\n",
    "svc_pipe_accuracy = accuracy_score(y_test, svc_pipe_pred)\n",
    "\n",
    "print('accuracy score: ', svc_pipe_accuracy)\n",
    "print('training score: ', svc_pipe.score(X_train, y_train), '\\n')\n",
    "\n",
    "# plot SVC training and test set curves\n",
    "sizes, training_scores, testing_scores = learning_curve(svc_pipe, X_train, y_train)\n",
    "train_scores_mean = np.mean(training_scores, axis=1)\n",
    "test_scores_mean = np.mean(testing_scores, axis=1)\n",
    "\n",
    "plt.plot(sizes, train_scores_mean, '--', color=\"b\")\n",
    "plt.plot(sizes, test_scores_mean, color=\"g\")\n",
    "plt.title('SVC Learning curve')\n",
    "plt.show()\n",
    "\n",
    "# Checking performance  with classification report.\n",
    "print('\\nClassification report: \\n', classification_report(y_test, svc_pipe_pred))\n",
    "print('\\nConfusion matrix: \\n', confusion_matrix(y_test, svc_pipe_pred))\n"
   ],
   "metadata": {
    "collapsed": false,
    "pycharm": {
     "name": "#%%\n"
    }
   }
  },
  {
   "cell_type": "code",
   "execution_count": 44,
   "outputs": [
    {
     "name": "stdout",
     "output_type": "stream",
     "text": [
      "accuracy score:  1.0\n",
      "training score:  1.0 \n",
      "\n",
      "\n",
      "Classification report: \n",
      "               precision    recall  f1-score   support\n",
      "\n",
      "           A       1.00      1.00      1.00        10\n",
      "           B       1.00      1.00      1.00        43\n",
      "           C       1.00      1.00      1.00        78\n",
      "           D       1.00      1.00      1.00        75\n",
      "           E       1.00      1.00      1.00        79\n",
      "           F       1.00      1.00      1.00        15\n",
      "\n",
      "    accuracy                           1.00       300\n",
      "   macro avg       1.00      1.00      1.00       300\n",
      "weighted avg       1.00      1.00      1.00       300\n",
      "\n",
      "\n",
      "Confusion matrix: \n",
      " [[10  0  0  0  0  0]\n",
      " [ 0 43  0  0  0  0]\n",
      " [ 0  0 78  0  0  0]\n",
      " [ 0  0  0 75  0  0]\n",
      " [ 0  0  0  0 79  0]\n",
      " [ 0  0  0  0  0 15]]\n"
     ]
    },
    {
     "data": {
      "text/plain": "<Figure size 432x288 with 1 Axes>",
      "image/png": "[encoded data removed]"
     },
     "metadata": {},
     "output_type": "display_data"
    }
   ],
   "source": [
    "# Make predictions and visualization with RandomForest Classifier (with scaled data)\n",
    "\n",
    "rf_pipe = make_pipeline(transformed, StandardScaler(), RandomForestClassifier())\n",
    "rf_pipe.fit(X_train, y_train)\n",
    "rf_pipe_pred = rf_pipe.predict(X_test)\n",
    "rf_pipe_accuracy = accuracy_score(y_test, rf_pipe_pred)\n",
    "\n",
    "print('accuracy score: ', rf_pipe_accuracy)\n",
    "print('training score: ', rf_pipe.score(X_train, y_train), '\\n')\n",
    "\n",
    "# plot training and test sets\n",
    "sizes, training_scores, testing_scores = learning_curve(rf_pipe, X_train, y_train)\n",
    "train_scores_mean = np.mean(training_scores, axis=1)\n",
    "test_scores_mean = np.mean(testing_scores, axis=1)\n",
    "\n",
    "plt.plot(sizes, train_scores_mean, '--', color=\"b\")\n",
    "plt.plot(sizes, test_scores_mean, color=\"g\")\n",
    "plt.title('RandomForest Learning curve')\n",
    "plt.show()\n",
    "\n",
    "# Checking performance of model  with classification report.\n",
    "print('\\nClassification report: \\n', classification_report(y_test, rf_pipe_pred))\n",
    "print('\\nConfusion matrix: \\n', confusion_matrix(y_test, rf_pipe_pred))\n",
    "\n"
   ],
   "metadata": {
    "collapsed": false,
    "pycharm": {
     "name": "#%%\n"
    }
   }
  }
 ],
 "metadata": {
  "kernelspec": {
   "display_name": "Python 3",
   "language": "python",
   "name": "python3"
  },
  "language_info": {
   "codemirror_mode": {
    "name": "ipython",
    "version": 2
   },
   "file_extension": ".py",
   "mimetype": "text/x-python",
   "name": "python",
   "nbconvert_exporter": "python",
   "pygments_lexer": "ipython2",
   "version": "2.7.6"
  }
 },
 "nbformat": 4,
 "nbformat_minor": 0
}